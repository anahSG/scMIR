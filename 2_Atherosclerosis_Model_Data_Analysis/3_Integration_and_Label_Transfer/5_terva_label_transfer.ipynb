{
 "cells": [
  {
   "cell_type": "code",
   "execution_count": 1,
   "id": "other-documentary",
   "metadata": {},
   "outputs": [
    {
     "name": "stderr",
     "output_type": "stream",
     "text": [
      "Attaching SeuratObject\n",
      "\n",
      "Registered S3 method overwritten by 'cli':\n",
      "  method     from         \n",
      "  print.boxx spatstat.geom\n",
      "\n",
      "Warning message in if (is.na(desc)) {:\n",
      "“the condition has length > 1 and only the first element will be used”\n",
      "Warning message in if (is.na(desc)) {:\n",
      "“the condition has length > 1 and only the first element will be used”\n",
      "Warning message in if (is.na(desc)) {:\n",
      "“the condition has length > 1 and only the first element will be used”\n",
      "Warning message in if (is.na(desc)) {:\n",
      "“the condition has length > 1 and only the first element will be used”\n",
      "Warning message in if (is.na(desc)) {:\n",
      "“the condition has length > 1 and only the first element will be used”\n",
      "Warning message in if (is.na(desc)) {:\n",
      "“the condition has length > 1 and only the first element will be used”\n",
      "Warning message in if (is.na(desc)) {:\n",
      "“the condition has length > 1 and only the first element will be used”\n",
      "Warning message in if (is.na(desc)) {:\n",
      "“the condition has length > 1 and only the first element will be used”\n",
      "Warning message in if (is.na(desc)) {:\n",
      "“the condition has length > 1 and only the first element will be used”\n",
      "Warning message in if (is.na(desc)) {:\n",
      "“the condition has length > 1 and only the first element will be used”\n",
      "Warning message in if (is.na(desc)) {:\n",
      "“the condition has length > 1 and only the first element will be used”\n",
      "Warning message in if (is.na(desc)) {:\n",
      "“the condition has length > 1 and only the first element will be used”\n",
      "Registered S3 method overwritten by 'SeuratDisk':\n",
      "  method            from  \n",
      "  as.sparse.H5Group Seurat\n",
      "\n",
      "\n",
      "Attaching package: ‘cowplot’\n",
      "\n",
      "\n",
      "The following object is masked from ‘package:patchwork’:\n",
      "\n",
      "    align_plots\n",
      "\n",
      "\n",
      "── \u001b[1mAttaching packages\u001b[22m ───────────────────────────────────────────────────── tidyverse 1.3.1 ──\n",
      "\n",
      "\u001b[32m✔\u001b[39m \u001b[34mtibble \u001b[39m 3.1.2     \u001b[32m✔\u001b[39m \u001b[34mdplyr  \u001b[39m 1.0.7\n",
      "\u001b[32m✔\u001b[39m \u001b[34mtidyr  \u001b[39m 1.1.3     \u001b[32m✔\u001b[39m \u001b[34mstringr\u001b[39m 1.4.0\n",
      "\u001b[32m✔\u001b[39m \u001b[34mreadr  \u001b[39m 1.4.0     \u001b[32m✔\u001b[39m \u001b[34mforcats\u001b[39m 0.5.1\n",
      "\u001b[32m✔\u001b[39m \u001b[34mpurrr  \u001b[39m 0.3.4     \n",
      "\n",
      "── \u001b[1mConflicts\u001b[22m ──────────────────────────────────────────────────────── tidyverse_conflicts() ──\n",
      "\u001b[31m✖\u001b[39m \u001b[34mtidyr\u001b[39m::\u001b[32mexpand()\u001b[39m masks \u001b[34mMatrix\u001b[39m::expand()\n",
      "\u001b[31m✖\u001b[39m \u001b[34mdplyr\u001b[39m::\u001b[32mfilter()\u001b[39m masks \u001b[34mstats\u001b[39m::filter()\n",
      "\u001b[31m✖\u001b[39m \u001b[34mdplyr\u001b[39m::\u001b[32mlag()\u001b[39m    masks \u001b[34mstats\u001b[39m::lag()\n",
      "\u001b[31m✖\u001b[39m \u001b[34mtidyr\u001b[39m::\u001b[32mpack()\u001b[39m   masks \u001b[34mMatrix\u001b[39m::pack()\n",
      "\u001b[31m✖\u001b[39m \u001b[34mtidyr\u001b[39m::\u001b[32munpack()\u001b[39m masks \u001b[34mMatrix\u001b[39m::unpack()\n",
      "\n"
     ]
    }
   ],
   "source": [
    "library(Seurat)\n",
    "library(SeuratData)\n",
    "library(patchwork)\n",
    "library(glmGamPoi)\n",
    "library(ggplot2) #for plot saving\n",
    "library(SeuratDisk)\n",
    "library(Matrix)\n",
    "library(cowplot)\n",
    "library(tidyverse)"
   ]
  },
  {
   "cell_type": "markdown",
   "id": "visible-flashing",
   "metadata": {},
   "source": [
    "### Variable inputs"
   ]
  },
  {
   "cell_type": "code",
   "execution_count": 2,
   "id": "speaking-advancement",
   "metadata": {},
   "outputs": [],
   "source": [
    "tissue <- \"WA\""
   ]
  },
  {
   "cell_type": "code",
   "execution_count": 3,
   "id": "conservative-nylon",
   "metadata": {},
   "outputs": [],
   "source": [
    "#name of reference file\n",
    "if (tissue == \"AO\"){\n",
    "    refname <- \"Heart_and_Aorta\" \n",
    "} else if (tissue == \"MO\"){ \n",
    "    refname <- \"Spleen\"\n",
    "} else if (tissue == \"WA\"){ \n",
    "    refname <- \"Fat\"\n",
    "}"
   ]
  },
  {
   "cell_type": "markdown",
   "id": "lightweight-importance",
   "metadata": {},
   "source": [
    "### Loading data"
   ]
  },
  {
   "cell_type": "code",
   "execution_count": 4,
   "id": "acute-florida",
   "metadata": {},
   "outputs": [],
   "source": [
    "#load datasets as Seurat objects\n",
    "\n",
    "reference <- readRDS(file = paste0(\"integration-input/reference/droplet.normalized.\",refname,\".subset.rds\"))\n",
    "\n",
    "# NB! query is assumed to be SCTransformed and integrated \n",
    "query <- readRDS(file = paste0(\"integration-input/\",tissue,\"/\",tissue,\"_all.rds\"))"
   ]
  },
  {
   "cell_type": "code",
   "execution_count": 5,
   "id": "parallel-radical",
   "metadata": {},
   "outputs": [],
   "source": [
    "DefaultAssay(query) <-\"integrated\"\n",
    "#DefaultAssay(reference) <-\"RNA\""
   ]
  },
  {
   "cell_type": "code",
   "execution_count": 6,
   "id": "cardiovascular-justice",
   "metadata": {},
   "outputs": [],
   "source": [
    "datasets.list=list(reference,query)"
   ]
  },
  {
   "cell_type": "code",
   "execution_count": 7,
   "id": "prepared-madonna",
   "metadata": {},
   "outputs": [
    {
     "data": {
      "text/plain": [
       "[[1]]\n",
       "An object of class Seurat \n",
       "20138 features across 2509 samples within 1 assay \n",
       "Active assay: RNA (20138 features, 0 variable features)\n",
       "\n",
       "[[2]]\n",
       "An object of class Seurat \n",
       "32713 features across 13392 samples within 3 assays \n",
       "Active assay: integrated (3000 features, 3000 variable features)\n",
       " 2 other assays present: RNA, SCT\n",
       " 2 dimensional reductions calculated: pca, umap\n"
      ]
     },
     "metadata": {},
     "output_type": "display_data"
    }
   ],
   "source": [
    "datasets.list"
   ]
  },
  {
   "cell_type": "code",
   "execution_count": 8,
   "id": "noble-sterling",
   "metadata": {},
   "outputs": [],
   "source": [
    "rm(query)\n",
    "rm(reference)"
   ]
  },
  {
   "cell_type": "markdown",
   "id": "numeric-occasions",
   "metadata": {},
   "source": [
    "## Dataset preprocessing"
   ]
  },
  {
   "cell_type": "code",
   "execution_count": 10,
   "id": "returning-edwards",
   "metadata": {},
   "outputs": [
    {
     "name": "stderr",
     "output_type": "stream",
     "text": [
      "Centering and scaling data matrix\n",
      "\n"
     ]
    }
   ],
   "source": [
    "# Scale data for reference\n",
    "datasets.list[[1]] <- ScaleData(datasets.list[[1]])\n",
    "# Correct reference data with SCTransform\n",
    "datasets.list[[1]] <- SCTransform(datasets.list[[1]],  method = \"glmGamPoi\", verbose = FALSE)\n",
    "# find variable features\n",
    "datasets.list[[1]] <- FindVariableFeatures(datasets.list[[1]],nfeatures = 3000, verbose = TRUE) "
   ]
  },
  {
   "cell_type": "code",
   "execution_count": 11,
   "id": "dietary-projector",
   "metadata": {},
   "outputs": [
    {
     "name": "stderr",
     "output_type": "stream",
     "text": [
      "Computing nearest neighbor graph\n",
      "\n",
      "Computing SNN\n",
      "\n"
     ]
    },
    {
     "name": "stdout",
     "output_type": "stream",
     "text": [
      "Modularity Optimizer version 1.3.0 by Ludo Waltman and Nees Jan van Eck\n",
      "\n",
      "Number of nodes: 2509\n",
      "Number of edges: 70687\n",
      "\n",
      "Running Louvain algorithm...\n",
      "Maximum modularity in 20 random starts: 0.8334\n",
      "Number of communities: 24\n",
      "Elapsed time: 0 seconds\n"
     ]
    },
    {
     "name": "stderr",
     "output_type": "stream",
     "text": [
      "Warning message:\n",
      "“The default method for RunUMAP has changed from calling Python UMAP via reticulate to the R-native UWOT using the cosine metric\n",
      "To use Python UMAP via reticulate, set umap.method to 'umap-learn' and metric to 'correlation'\n",
      "This message will be shown once per session”\n",
      "11:07:11 UMAP embedding parameters a = 0.9922 b = 1.112\n",
      "\n",
      "11:07:11 Read 2509 rows and found 30 numeric columns\n",
      "\n",
      "11:07:11 Using Annoy for neighbor search, n_neighbors = 30\n",
      "\n",
      "11:07:11 Building Annoy index with metric = cosine, n_trees = 50\n",
      "\n",
      "0%   10   20   30   40   50   60   70   80   90   100%\n",
      "\n",
      "[----|----|----|----|----|----|----|----|----|----|\n",
      "\n",
      "*\n",
      "*\n",
      "*\n",
      "*\n",
      "*\n",
      "*\n",
      "*\n",
      "*\n",
      "*\n",
      "*\n",
      "*\n",
      "*\n",
      "*\n",
      "*\n",
      "*\n",
      "*\n",
      "*\n",
      "*\n",
      "*\n",
      "*\n",
      "*\n",
      "*\n",
      "*\n",
      "*\n",
      "*\n",
      "*\n",
      "*\n",
      "*\n",
      "*\n",
      "*\n",
      "*\n",
      "*\n",
      "*\n",
      "*\n",
      "*\n",
      "*\n",
      "*\n",
      "*\n",
      "*\n",
      "*\n",
      "*\n",
      "*\n",
      "*\n",
      "*\n",
      "*\n",
      "*\n",
      "*\n",
      "*\n",
      "*\n",
      "*\n",
      "|\n",
      "\n",
      "11:07:11 Writing NN index file to temp file /tmp/RtmplbR1Tw/file175e6a65771a\n",
      "\n",
      "11:07:11 Searching Annoy index using 1 thread, search_k = 3000\n",
      "\n",
      "11:07:12 Annoy recall = 100%\n",
      "\n",
      "11:07:12 Commencing smooth kNN distance calibration using 1 thread\n",
      "\n",
      "11:07:13 Initializing from normalized Laplacian + noise\n",
      "\n",
      "11:07:14 Commencing optimization for 500 epochs, with 99254 positive edges\n",
      "\n",
      "11:07:17 Optimization finished\n",
      "\n",
      "Computing nearest neighbor graph\n",
      "\n",
      "Computing SNN\n",
      "\n"
     ]
    },
    {
     "name": "stdout",
     "output_type": "stream",
     "text": [
      "Modularity Optimizer version 1.3.0 by Ludo Waltman and Nees Jan van Eck\n",
      "\n",
      "Number of nodes: 13392\n",
      "Number of edges: 429843\n",
      "\n",
      "Running Louvain algorithm...\n",
      "Maximum modularity in 20 random starts: 0.8005\n",
      "Number of communities: 31\n",
      "Elapsed time: 3 seconds\n"
     ]
    },
    {
     "name": "stderr",
     "output_type": "stream",
     "text": [
      "11:08:38 UMAP embedding parameters a = 0.9922 b = 1.112\n",
      "\n",
      "11:08:38 Read 13392 rows and found 30 numeric columns\n",
      "\n",
      "11:08:38 Using Annoy for neighbor search, n_neighbors = 30\n",
      "\n",
      "11:08:38 Building Annoy index with metric = cosine, n_trees = 50\n",
      "\n",
      "0%   10   20   30   40   50   60   70   80   90   100%\n",
      "\n",
      "[----|----|----|----|----|----|----|----|----|----|\n",
      "\n",
      "*\n",
      "*\n",
      "*\n",
      "*\n",
      "*\n",
      "*\n",
      "*\n",
      "*\n",
      "*\n",
      "*\n",
      "*\n",
      "*\n",
      "*\n",
      "*\n",
      "*\n",
      "*\n",
      "*\n",
      "*\n",
      "*\n",
      "*\n",
      "*\n",
      "*\n",
      "*\n",
      "*\n",
      "*\n",
      "*\n",
      "*\n",
      "*\n",
      "*\n",
      "*\n",
      "*\n",
      "*\n",
      "*\n",
      "*\n",
      "*\n",
      "*\n",
      "*\n",
      "*\n",
      "*\n",
      "*\n",
      "*\n",
      "*\n",
      "*\n",
      "*\n",
      "*\n",
      "*\n",
      "*\n",
      "*\n",
      "*\n",
      "*\n",
      "|\n",
      "\n",
      "11:08:40 Writing NN index file to temp file /tmp/RtmplbR1Tw/file175e20428154\n",
      "\n",
      "11:08:40 Searching Annoy index using 1 thread, search_k = 3000\n",
      "\n",
      "11:08:44 Annoy recall = 100%\n",
      "\n",
      "11:08:45 Commencing smooth kNN distance calibration using 1 thread\n",
      "\n",
      "11:08:46 Initializing from normalized Laplacian + noise\n",
      "\n",
      "11:08:47 Commencing optimization for 200 epochs, with 581958 positive edges\n",
      "\n",
      "11:08:55 Optimization finished\n",
      "\n"
     ]
    }
   ],
   "source": [
    "# Dimensional reductions and clustering\n",
    "datasets.list <- lapply(X = datasets.list, FUN = function(x) {\n",
    "    x <- RunPCA(x, verbose = FALSE)\n",
    "    x <- FindNeighbors(object = x, reduction = \"pca\")\n",
    "\n",
    "    x <- FindClusters(object = x, \n",
    "                               n.iter = 20,\n",
    "                               n.start = 20,\n",
    "                               resolution = 2) # run at higher resolution than default (0.8) to be able to more easily assign clusters into cell types\n",
    "\n",
    "    x <- RunTSNE(object = x, reduction = \"pca\")\n",
    "    x <- RunUMAP(x, reduction = \"pca\", dims = 1:30)\n",
    "})"
   ]
  },
  {
   "cell_type": "markdown",
   "id": "confident-anchor",
   "metadata": {},
   "source": [
    "# plots"
   ]
  },
  {
   "cell_type": "code",
   "execution_count": 12,
   "id": "together-twins",
   "metadata": {},
   "outputs": [
    {
     "name": "stderr",
     "output_type": "stream",
     "text": [
      "Calculating cluster 0\n",
      "\n",
      "Calculating cluster 1\n",
      "\n",
      "Calculating cluster 2\n",
      "\n",
      "Calculating cluster 3\n",
      "\n",
      "Calculating cluster 4\n",
      "\n",
      "Calculating cluster 5\n",
      "\n",
      "Calculating cluster 6\n",
      "\n",
      "Calculating cluster 7\n",
      "\n",
      "Calculating cluster 8\n",
      "\n",
      "Calculating cluster 9\n",
      "\n",
      "Calculating cluster 10\n",
      "\n",
      "Calculating cluster 11\n",
      "\n",
      "Calculating cluster 12\n",
      "\n",
      "Calculating cluster 13\n",
      "\n",
      "Calculating cluster 14\n",
      "\n",
      "Calculating cluster 15\n",
      "\n",
      "Calculating cluster 16\n",
      "\n",
      "Calculating cluster 17\n",
      "\n",
      "Calculating cluster 18\n",
      "\n",
      "Calculating cluster 19\n",
      "\n",
      "Calculating cluster 20\n",
      "\n",
      "Calculating cluster 21\n",
      "\n",
      "Calculating cluster 22\n",
      "\n",
      "Calculating cluster 23\n",
      "\n",
      "Calculating cluster 24\n",
      "\n",
      "Calculating cluster 25\n",
      "\n",
      "Calculating cluster 26\n",
      "\n",
      "Calculating cluster 27\n",
      "\n",
      "Calculating cluster 28\n",
      "\n",
      "Calculating cluster 29\n",
      "\n",
      "Calculating cluster 30\n",
      "\n"
     ]
    }
   ],
   "source": [
    "# run FindAllMarkers\n",
    "# (this will take several minutes to run with the selected - default - settings)\n",
    "query.markers <- FindAllMarkers(object = datasets.list[[2]], \n",
    "                                         test.use = \"wilcox\", # wilcox is the default\n",
    "                                         min.pct = 0.1, # 0.1 is the default\n",
    "                                         logfc.threshold = 0.25, # 0.25 is the default\n",
    "                                         only.pos = F) # FALSE is the default\n",
    "                                          # assay=\"RNA\""
   ]
  },
  {
   "cell_type": "code",
   "execution_count": 13,
   "id": "indie-gender",
   "metadata": {},
   "outputs": [
    {
     "data": {
      "text/html": [
       "<strong>png:</strong> 2"
      ],
      "text/latex": [
       "\\textbf{png:} 2"
      ],
      "text/markdown": [
       "**png:** 2"
      ],
      "text/plain": [
       "png \n",
       "  2 "
      ]
     },
     "metadata": {},
     "output_type": "display_data"
    },
    {
     "data": {
      "text/html": [
       "<strong>png:</strong> 2"
      ],
      "text/latex": [
       "\\textbf{png:} 2"
      ],
      "text/markdown": [
       "**png:** 2"
      ],
      "text/plain": [
       "png \n",
       "  2 "
      ]
     },
     "metadata": {},
     "output_type": "display_data"
    }
   ],
   "source": [
    "# DoHeatmap - heatmap of cluster marker genes to facilitate cell type annotation work\n",
    "top15 <- query.markers %>% group_by(cluster) %>% top_n(n = 15, avg_log2FC)\n",
    "\n",
    "png(filename =paste0(\"integration-output/\",tissue,\"/cluster_markers_heatmap_logFC_top15.png\"), width = 1500, height = 1500)\n",
    "print(DoHeatmap(object = datasets.list[[2]], features = top15$gene) + NoLegend())\n",
    "dev.off()\n",
    "\n",
    "# make a pdf heatmap as well, so that gene names are searchable\n",
    "pdf(file = paste0(\"integration-output/\",tissue,\"/cluster_markers_heatmap_logFC_top15.pdf\"), width=25, height=25)\n",
    "print(DoHeatmap(object = datasets.list[[2]], features = top15$gene) + NoLegend())\n",
    "dev.off()"
   ]
  },
  {
   "cell_type": "markdown",
   "id": "honey-technique",
   "metadata": {},
   "source": [
    "## Label transfer"
   ]
  },
  {
   "cell_type": "code",
   "execution_count": 15,
   "id": "specified-horizontal",
   "metadata": {},
   "outputs": [],
   "source": [
    "# downsample to limit cluster sizes to 500 cells\n",
    "# this will help with the anchor finding step that wants to allocate a large amount of memory\n",
    "datasets.list[[1]] <- subset(x = datasets.list[[1]], downsample = 500)"
   ]
  },
  {
   "cell_type": "code",
   "execution_count": 16,
   "id": "olympic-smell",
   "metadata": {},
   "outputs": [],
   "source": [
    "intfeatures <- SelectIntegrationFeatures(\n",
    "  datasets.list,\n",
    "  nfeatures = 3000,\n",
    "  verbose = TRUE\n",
    ")"
   ]
  },
  {
   "cell_type": "code",
   "execution_count": 17,
   "id": "hispanic-money",
   "metadata": {},
   "outputs": [
    {
     "name": "stderr",
     "output_type": "stream",
     "text": [
      "Normalizing query using reference SCT model\n",
      "\n",
      "Projecting cell embeddings\n",
      "\n",
      "Finding neighborhoods\n",
      "\n",
      "Finding anchors\n",
      "\n",
      "\tFound 2169 anchors\n",
      "\n"
     ]
    }
   ],
   "source": [
    "# find anchors in the query\n",
    "datasets.anchors <- FindTransferAnchors(reference = datasets.list[[1]], \n",
    "                                              query = datasets.list[[2]], \n",
    "                                              #dims = 1:75, # Which dimensions to use from the reduction to specify the neighbor search space \n",
    "                                              # default 1:30, \n",
    "                                              # maybe 1:75 -- reference (MCA) did have important pc-s up to pc 75\n",
    "                                              npcs = NULL, # If null, then use an existing PCA structure in the reference object\n",
    "                                              features = intfeatures, \n",
    "                                              # \"features\" might be unnecessary if npcs=NULL\n",
    "                                              normalization.method = \"SCT\",\n",
    "                                              reference.reduction = \"pca\",\n",
    "                                              eps = 0, # default 0; employ an approximate nearest neighbor search by increasing the nn.eps parameter. \n",
    "                                              # Setting this at 0 (the default) represents an exact neighbor search. \n",
    "                                              # could also set to 0.5 (might speed up the calculation)\n",
    "                                              k.anchor = 5, # default: 5; How many neighbors (k) to use when picking anchors\n",
    "                                              k.score = 30, # default 30; How many neighbors (k) to use when scoring anchors\n",
    "                                              k.filter = 200, # default: 200; How many neighbors (k) to use when filtering anchors\n",
    "                                              max.features = 200, # default: 200; The maximum number of features to use when specifying the neighborhood search space in the anchor filtering\n",
    "                                              verbose = TRUE)\n"
   ]
  },
  {
   "cell_type": "code",
   "execution_count": 19,
   "id": "cosmetic-review",
   "metadata": {},
   "outputs": [
    {
     "name": "stderr",
     "output_type": "stream",
     "text": [
      "Finding integration vectors\n",
      "\n",
      "Finding integration vector weights\n",
      "\n",
      "Predicting cell labels\n",
      "\n"
     ]
    }
   ],
   "source": [
    "# After finding anchors, we use the TransferData function to classify the query\n",
    "# cells based on reference data (a vector of reference cell type labels).\n",
    "# TransferData returns a matrix with predicted IDs and prediction scores, which\n",
    "# we can add to the query metadata.\n",
    "\n",
    "# predict based on cell_ontology_class\n",
    "datasets.predictions <- TransferData(anchorset = datasets.anchors, \n",
    "                                           refdata = datasets.list[[1]]$cell_ontology_class, \n",
    "                                           #dims = 1:75\n",
    "                                            )\n",
    "\n",
    "# add the predictedID-s and their corresponding prediction scores \n",
    "datasets.list[[2]] <- AddMetaData(object = datasets.list[[2]], \n",
    "                              metadata = datasets.predictions[,c(\"predicted.id\", \"prediction.score.max\")])\n"
   ]
  },
  {
   "cell_type": "code",
   "execution_count": 20,
   "id": "written-attachment",
   "metadata": {},
   "outputs": [
    {
     "data": {
      "text/plain": [
       "   Mode   FALSE \n",
       "logical   13392 "
      ]
     },
     "metadata": {},
     "output_type": "display_data"
    }
   ],
   "source": [
    "# if there are empty IDs (cells that were unnamed in the atlas) then replace these IDs to be non-empty\n",
    "summary(datasets.list[[2]]$predicted.id==\"\")\n",
    "datasets.list[[2]][[\"predicted.id\"]] <- replace(datasets.list[[2]]$predicted.id, \n",
    "                                            datasets.list[[2]]$predicted.id==\"\", \n",
    "                                            \"NotNamedInAtlas\")\n"
   ]
  },
  {
   "cell_type": "code",
   "execution_count": 22,
   "id": "demonstrated-underground",
   "metadata": {},
   "outputs": [
    {
     "name": "stderr",
     "output_type": "stream",
     "text": [
      "Saving 6.67 x 6.67 in image\n",
      "\n"
     ]
    },
    {
     "data": {
      "image/png": "[encoded data removed]",
      "text/plain": [
       "plot without title"
      ]
     },
     "metadata": {
      "image/png": {
       "height": 420,
       "width": 420
      }
     },
     "output_type": "display_data"
    }
   ],
   "source": [
    "# check the predicted ID-s:\n",
    "p1 = DimPlot(datasets.list[[2]], reduction = \"umap\", group.by = \"predicted.id\", label = TRUE, label.size = 2, repel = TRUE) \n",
    "p1\n",
    "ggsave(paste0(\"integration-output/\",tissue,\"/\",tissue,\"predictedid_umap.png\"))"
   ]
  },
  {
   "cell_type": "code",
   "execution_count": 23,
   "id": "worldwide-anatomy",
   "metadata": {},
   "outputs": [
    {
     "data": {
      "text/plain": [
       "\n",
       "                          B cell                 endothelial cell \n",
       "                              75                              112 \n",
       "                    erythroblast mesenchymal stem cell of adipose \n",
       "                              11                            10924 \n",
       "                    myeloid cell                           T cell \n",
       "                            1929                              341 "
      ]
     },
     "metadata": {},
     "output_type": "display_data"
    }
   ],
   "source": [
    "# check the predicted ID-s:\n",
    "table(datasets.list[[2]]$predicted.id)\n"
   ]
  },
  {
   "cell_type": "code",
   "execution_count": 24,
   "id": "functioning-mining",
   "metadata": {},
   "outputs": [],
   "source": [
    "# write the cell type counts to have it recorded\n",
    "write.table(table(datasets.list[[2]]$predicted.id), \n",
    "            file=paste0(\"integration-output/\",tissue,\"/predictedID-s_from_Tabula_Muris_SCT.txt\"),\n",
    "            quote=F, col.names = F, row.names = F)"
   ]
  },
  {
   "cell_type": "code",
   "execution_count": 25,
   "id": "descending-exemption",
   "metadata": {},
   "outputs": [],
   "source": [
    "# write all the prediction scores to have it recorded\n",
    "write.table(datasets.predictions, \n",
    "            file=paste0(\"integration-output/\",tissue,\"/cell_type_prediction_scores_full_table_SCT.txt\"),\n",
    "            quote=F, col.names = T, row.names = T, sep=\"\\t\")"
   ]
  },
  {
   "cell_type": "code",
   "execution_count": 27,
   "id": "common-alexander",
   "metadata": {},
   "outputs": [
    {
     "data": {
      "text/html": [
       "<strong>png:</strong> 2"
      ],
      "text/latex": [
       "\\textbf{png:} 2"
      ],
      "text/markdown": [
       "**png:** 2"
      ],
      "text/plain": [
       "png \n",
       "  2 "
      ]
     },
     "metadata": {},
     "output_type": "display_data"
    }
   ],
   "source": [
    "# store the predicted ID-s under a more descriptive name\n",
    "datasets.list[[2]][[\"celltype.pred\"]] <- datasets.list[[2]]$predicted.id\n",
    "\n",
    "\n",
    "\n",
    "# make a tSNE plot showing the predicted cell types and cell counts\n",
    "\n",
    "# Calculate number of cells per ID\n",
    "cell.num <- table(datasets.list[[2]]$celltype.pred)\n",
    "\n",
    "# Add cell number per cluster to cluster labels\n",
    "predictedIDAndCount <- paste(names(cell.num), paste0(\"(n = \", cell.num, \")\"))\n",
    "names(x = predictedIDAndCount) <- names(cell.num)\n",
    "\n",
    "# set the predicted cell type as the active ident\n",
    "Idents(object = datasets.list[[2]]) <- datasets.list[[2]]$predicted.id\n",
    "\n",
    "# add the cell counts into the idents:\n",
    "datasets.list[[2]] <- RenameIdents(object = datasets.list[[2]], predictedIDAndCount)\n",
    "\n",
    "# make the plot\n",
    "png(filename = paste0(\"integration-output/\",tissue,\"/RNA_-_tSNE_-_predicted_cell_types_and_counts_SCT.png\"), width=1200, height=750)\n",
    "print(DimPlot(object = datasets.list[[2]], reduction = \"tsne\", pt.size = 0.5, label = T, \n",
    "              label.size=4, repel=T) + labs(title = \"cell types predicted from Tabula Muris\"))\n",
    "dev.off()\n",
    "\n",
    "# set the idents back to cluster ID number:\n",
    "##### NEED TO CHANGE TO THE CORRECT RESOLUTION FOR EACH TISSUE\n",
    "Idents(datasets.list[[2]]) <- \"RNA_snn_res.2\" # make sure to use idents from the same resolution as previously\n",
    "\n",
    "\n",
    "### end of cell type identity prediction using the Tabula Muris SmartSeq2 mouse cell atlas"
   ]
  },
  {
   "cell_type": "code",
   "execution_count": 28,
   "id": "invalid-improvement",
   "metadata": {},
   "outputs": [],
   "source": [
    "datasets.list[[2]]$predicted.id <- NULL"
   ]
  },
  {
   "cell_type": "code",
   "execution_count": 21,
   "id": "academic-briefing",
   "metadata": {},
   "outputs": [],
   "source": [
    "saveRDS(datasets.list, file = paste0(\"integration-output/\",tissue,\"/\",tissue,\"_transferred.rds\"))"
   ]
  },
  {
   "cell_type": "code",
   "execution_count": 31,
   "id": "seven-bullet",
   "metadata": {},
   "outputs": [
    {
     "name": "stderr",
     "output_type": "stream",
     "text": [
      "\n",
      "Attaching package: ‘data.table’\n",
      "\n",
      "\n",
      "The following objects are masked from ‘package:dplyr’:\n",
      "\n",
      "    between, first, last\n",
      "\n",
      "\n",
      "The following object is masked from ‘package:purrr’:\n",
      "\n",
      "    transpose\n",
      "\n",
      "\n"
     ]
    }
   ],
   "source": [
    "library(data.table)"
   ]
  },
  {
   "cell_type": "code",
   "execution_count": 32,
   "id": "rocky-devices",
   "metadata": {},
   "outputs": [],
   "source": [
    "exportdata <- as.data.frame(as.matrix(datasets.list[[2]]@meta.data))\n",
    "fwrite(x = exportdata, file =paste0(\"integration-output/\",tissue,\"/\",tissue,\"_metadata.csv\"), row.names = TRUE)"
   ]
  },
  {
   "cell_type": "code",
   "execution_count": null,
   "id": "forbidden-learning",
   "metadata": {},
   "outputs": [],
   "source": []
  }
 ],
 "metadata": {
  "kernelspec": {
   "display_name": "R",
   "language": "R",
   "name": "ir"
  },
  "language_info": {
   "codemirror_mode": "r",
   "file_extension": ".r",
   "mimetype": "text/x-r-source",
   "name": "R",
   "pygments_lexer": "r",
   "version": "4.0.3"
  }
 },
 "nbformat": 4,
 "nbformat_minor": 5
}
