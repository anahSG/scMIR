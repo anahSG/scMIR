{
 "cells": [
  {
   "cell_type": "markdown",
   "id": "academic-contents",
   "metadata": {},
   "source": [
    "# Scanpy anndata conversion to Seurat object mediated by loom\n",
    "\n",
    "This notebook describes a method to convert anndata files (native to Scanpy) to Seurat objects. SeuratDisk has a function for this very purpose, but at this time (last checked: 14/05/2021) it is not functional, not even by following the provided vignette. \n",
    "\n",
    "In this alternative method, the anndata object is converted to loom and then converted to Seurat. The loom file can be edited to ensure that it is correctly loaded onto Seurat."
   ]
  },
  {
   "cell_type": "markdown",
   "id": "touched-package",
   "metadata": {},
   "source": [
    "### Loading required packages"
   ]
  },
  {
   "cell_type": "code",
   "execution_count": null,
   "id": "medium-connection",
   "metadata": {},
   "outputs": [],
   "source": [
    "import anndata\n",
    "import numpy as np\n",
    "import loompy"
   ]
  },
  {
   "cell_type": "code",
   "execution_count": null,
   "id": "incredible-combining",
   "metadata": {},
   "outputs": [],
   "source": [
    "%%R\n",
    "library(Seurat)\n",
    "library(SeuratDisk)"
   ]
  },
  {
   "cell_type": "markdown",
   "id": "accurate-orleans",
   "metadata": {},
   "source": [
    "### Variable inputs"
   ]
  },
  {
   "cell_type": "code",
   "execution_count": null,
   "id": "small-floor",
   "metadata": {},
   "outputs": [],
   "source": [
    "# Variables for reading in data:\n",
    "anndata_file = 'outputs/filename.h5ad' # path for the input anndata object\n",
    "loom_file = anndata_file + '.loom'\n",
    "seurat_file = anndata_file + '.rds'\n",
    "\n",
    "# outputs will be stored in the same folder"
   ]
  },
  {
   "cell_type": "markdown",
   "id": "quick-capitol",
   "metadata": {},
   "source": [
    "## 1. Export (with Scanpy)"
   ]
  },
  {
   "cell_type": "code",
   "execution_count": null,
   "id": "proud-solomon",
   "metadata": {},
   "outputs": [],
   "source": [
    "adata = anndata.read(anndata_file)\n",
    "adata.write_loom(loom_file)"
   ]
  },
  {
   "cell_type": "code",
   "execution_count": null,
   "id": "endless-forwarding",
   "metadata": {},
   "outputs": [],
   "source": [
    "adata"
   ]
  },
  {
   "cell_type": "markdown",
   "id": "aboriginal-sympathy",
   "metadata": {},
   "source": [
    "## 2. Editing (with Loompy)(optional)"
   ]
  },
  {
   "cell_type": "code",
   "execution_count": null,
   "id": "intermediate-catering",
   "metadata": {},
   "outputs": [],
   "source": [
    "loomfile = loompy.connect(loom_file)"
   ]
  },
  {
   "cell_type": "code",
   "execution_count": null,
   "id": "improving-press",
   "metadata": {},
   "outputs": [],
   "source": [
    "# The row features\n",
    "loomfile.ra.keys()"
   ]
  },
  {
   "cell_type": "code",
   "execution_count": null,
   "id": "verbal-appraisal",
   "metadata": {},
   "outputs": [],
   "source": [
    "# The column features\n",
    "loomfile.ca.keys()"
   ]
  },
  {
   "cell_type": "code",
   "execution_count": null,
   "id": "sought-chair",
   "metadata": {},
   "outputs": [],
   "source": [
    "# Gene symbols are generally stored in 'var_names' or 'Genes' in the row features. The gene_ids row often contains the ENSEMBL ID.\n",
    "loomfile.ra.gene_ids"
   ]
  },
  {
   "cell_type": "code",
   "execution_count": null,
   "id": "outer-privilege",
   "metadata": {},
   "outputs": [],
   "source": [
    "## If you wish to change the name of a feature, you can do so by:\n",
    "#loomfile.ra.Gene = loomfile.ra.gene_ids\n",
    "#del loomfile.ra.var_names"
   ]
  },
  {
   "cell_type": "markdown",
   "id": "criminal-chinese",
   "metadata": {},
   "source": [
    "## 3. Import (with Seurat)"
   ]
  },
  {
   "cell_type": "code",
   "execution_count": null,
   "id": "dramatic-mainstream",
   "metadata": {},
   "outputs": [],
   "source": [
    "%%R\n",
    "newdata <- Connect(filename = loom_file, mode = \"r\")\n",
    "newdata"
   ]
  },
  {
   "cell_type": "code",
   "execution_count": null,
   "id": "split-benefit",
   "metadata": {},
   "outputs": [],
   "source": [
    "%%R\n",
    "# Remember to set correctly the cells and features parameters. Documentation: https://www.rdocumentation.org/packages/Seurat/versions/3.1.0/topics/as.Seurat\n",
    "seuratfile <- as.Seurat(newdata, cells = \"obs_names\", features = \"var_names\", assay = \"RNA\", verbose = TRUE)"
   ]
  },
  {
   "cell_type": "code",
   "execution_count": null,
   "id": "adopted-cleaning",
   "metadata": {},
   "outputs": [],
   "source": [
    "%%R\n",
    "saveRDS(seuratfile, file = seurat_file)"
   ]
  }
 ],
 "metadata": {
  "kernelspec": {
   "display_name": "R",
   "language": "R",
   "name": "ir"
  },
  "language_info": {
   "codemirror_mode": "r",
   "file_extension": ".r",
   "mimetype": "text/x-r-source",
   "name": "R",
   "pygments_lexer": "r",
   "version": "4.0.3"
  }
 },
 "nbformat": 4,
 "nbformat_minor": 5
}
