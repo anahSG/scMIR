{
 "cells": [
  {
   "cell_type": "markdown",
   "id": "popular-insured",
   "metadata": {},
   "source": [
    "# Seurat: data integration"
   ]
  },
  {
   "cell_type": "code",
   "execution_count": 1,
   "id": "limited-morris",
   "metadata": {},
   "outputs": [
    {
     "name": "stderr",
     "output_type": "stream",
     "text": [
      "Attaching SeuratObject\n",
      "\n",
      "Registered S3 method overwritten by 'cli':\n",
      "  method     from         \n",
      "  print.boxx spatstat.geom\n",
      "\n",
      "Warning message in if (is.na(desc)) {:\n",
      "“the condition has length > 1 and only the first element will be used”\n",
      "Warning message in if (is.na(desc)) {:\n",
      "“the condition has length > 1 and only the first element will be used”\n",
      "Warning message in if (is.na(desc)) {:\n",
      "“the condition has length > 1 and only the first element will be used”\n",
      "Warning message in if (is.na(desc)) {:\n",
      "“the condition has length > 1 and only the first element will be used”\n",
      "Warning message in if (is.na(desc)) {:\n",
      "“the condition has length > 1 and only the first element will be used”\n",
      "Warning message in if (is.na(desc)) {:\n",
      "“the condition has length > 1 and only the first element will be used”\n",
      "Warning message in if (is.na(desc)) {:\n",
      "“the condition has length > 1 and only the first element will be used”\n",
      "Warning message in if (is.na(desc)) {:\n",
      "“the condition has length > 1 and only the first element will be used”\n",
      "Warning message in if (is.na(desc)) {:\n",
      "“the condition has length > 1 and only the first element will be used”\n",
      "Warning message in if (is.na(desc)) {:\n",
      "“the condition has length > 1 and only the first element will be used”\n",
      "Warning message in if (is.na(desc)) {:\n",
      "“the condition has length > 1 and only the first element will be used”\n",
      "Warning message in if (is.na(desc)) {:\n",
      "“the condition has length > 1 and only the first element will be used”\n",
      "── \u001b[1mInstalled datasets\u001b[22m ─────────────────────────────────────────────────────────────────────────────────────────────────────────────────────────────────────────────────── SeuratData v0.2.1 ──\n",
      "\n",
      "\u001b[32m✔\u001b[39m \u001b[34mpbmc3k\u001b[39m 3.1.4                                                                                 \n",
      "\n",
      "\n",
      "───────────────────────────────────────────────────────────────────────────────────────────── Key ────────────────────────────────────────────────────────────────────────────────────────────\n",
      "\n",
      "\u001b[32m✔\u001b[39m Dataset loaded successfully\n",
      "\u001b[33m❯\u001b[39m Dataset built with a newer version of Seurat than installed\n",
      "\u001b[31m❓\u001b[39m Unknown version of Seurat installed\n",
      "\n",
      "\n"
     ]
    }
   ],
   "source": [
    "library(Seurat)\n",
    "library(SeuratData)\n",
    "library(patchwork)\n",
    "library(glmGamPoi)\n",
    "library(ggplot2) #for plot saving"
   ]
  },
  {
   "cell_type": "markdown",
   "id": "attempted-shame",
   "metadata": {},
   "source": [
    "### Variable inputs"
   ]
  },
  {
   "cell_type": "code",
   "execution_count": 2,
   "id": "nuclear-pittsburgh",
   "metadata": {},
   "outputs": [],
   "source": [
    "tissue <- \"AO\" # Options: AO,MO,WA"
   ]
  },
  {
   "cell_type": "code",
   "execution_count": 3,
   "id": "practical-solid",
   "metadata": {},
   "outputs": [],
   "source": [
    "conditionnames <- list(\"C\",\"ED\",\"PL\",\"IC\",\"LD\") # name of the conditions in the preferred order of integration and display. \n",
    "refdatasets <- c(1, 5) # datasets \n",
    "#Excluding the reference datasets, datasets will be integrated from left to right"
   ]
  },
  {
   "cell_type": "code",
   "execution_count": null,
   "id": "efficient-spring",
   "metadata": {},
   "outputs": [],
   "source": [
    "filenames <- paste0(\"integration-input/\",tissue,\"/\",tissue,\"_\",conditionnames[],\".rds\")"
   ]
  },
  {
   "cell_type": "markdown",
   "id": "minute-coupon",
   "metadata": {},
   "source": [
    "### Loading data"
   ]
  },
  {
   "cell_type": "code",
   "execution_count": null,
   "id": "foster-terrace",
   "metadata": {},
   "outputs": [],
   "source": [
    "#load datasets as Seurat objects\n",
    "mergedata.list <- lapply(filenames,readRDS)"
   ]
  },
  {
   "cell_type": "code",
   "execution_count": null,
   "id": "skilled-colleague",
   "metadata": {},
   "outputs": [],
   "source": [
    "mergedata.list"
   ]
  },
  {
   "cell_type": "markdown",
   "id": "apparent-terrorist",
   "metadata": {},
   "source": [
    "### Preparation"
   ]
  },
  {
   "cell_type": "code",
   "execution_count": null,
   "id": "massive-ozone",
   "metadata": {},
   "outputs": [],
   "source": [
    "# normalize and identify variable features for each dataset independently\n",
    "# do this with SCTransform, right????\n",
    "mergedata.list <- lapply(X = mergedata.list, FUN = SCTransform, method = \"glmGamPoi\") #CHANGED for rpca: method = \"glmGamPoi\""
   ]
  },
  {
   "cell_type": "code",
   "execution_count": null,
   "id": "forward-cabin",
   "metadata": {},
   "outputs": [],
   "source": [
    "features <- SelectIntegrationFeatures(object.list = mergedata.list, nfeatures = 3000)"
   ]
  },
  {
   "cell_type": "code",
   "execution_count": null,
   "id": "acting-watch",
   "metadata": {},
   "outputs": [],
   "source": [
    "mergedata.list <- PrepSCTIntegration(object.list = mergedata.list, anchor.features = features)"
   ]
  },
  {
   "cell_type": "markdown",
   "id": "nonprofit-desktop",
   "metadata": {},
   "source": [
    "## Integration"
   ]
  },
  {
   "cell_type": "markdown",
   "id": "proud-stream",
   "metadata": {},
   "source": [
    "## CCA2"
   ]
  },
  {
   "cell_type": "code",
   "execution_count": null,
   "id": "based-studio",
   "metadata": {},
   "outputs": [],
   "source": [
    "# Anchors (cca 2)\n",
    "assay.anchors.cca2 <- FindIntegrationAnchors(object.list = mergedata.list, reference = refdatasets, normalization.method = \"SCT\",anchor.features = features, reduction=\"cca\",k.anchor=20,dims = 1:50)\n",
    "# this command creates an 'integrated' data assay\n",
    "assay.combined.sct.cca2 <- IntegrateData(anchorset = assay.anchors.cca2, normalization.method = \"SCT\")"
   ]
  },
  {
   "cell_type": "code",
   "execution_count": null,
   "id": "equal-trace",
   "metadata": {},
   "outputs": [],
   "source": [
    "assay.combined.sct.cca2 <- RunPCA(assay.combined.sct.cca2, verbose = FALSE)\n",
    "assay.combined.sct.cca2 <- RunUMAP(assay.combined.sct.cca2, reduction = \"pca\", dims = 1:30)"
   ]
  },
  {
   "cell_type": "code",
   "execution_count": null,
   "id": "novel-safety",
   "metadata": {},
   "outputs": [],
   "source": [
    "saveRDS(assay.combined.sct.cca2, file = paste0(\"integration-input/\",tissue,\"/\",tissue,\"_all.rds\"))"
   ]
  },
  {
   "cell_type": "code",
   "execution_count": null,
   "id": "developed-image",
   "metadata": {},
   "outputs": [],
   "source": [
    "# Visualization\n",
    "p1 <- DimPlot(assay.combined.sct.cca2, reduction = \"umap\", group.by = \"ConditionName\")\n",
    "# p1[[1]]$layers[[1]]$aes_params$alpha = .1 \n",
    "p1\n",
    "ggsave(paste0(tissue,\"_umap_all_cca_2.png\"), plot= p1)"
   ]
  },
  {
   "cell_type": "code",
   "execution_count": null,
   "id": "accurate-milwaukee",
   "metadata": {},
   "outputs": [],
   "source": [
    "sidebyside = DimPlot(assay.combined.sct.cca2, reduction = \"umap\", split.by = \"ConditionName\", group.by = \"ConditionName\")\n",
    "sidebyside\n",
    "ggsave(paste0(tissue,\"_umap_cca_2_side.png\"),sidebyside)"
   ]
  },
  {
   "cell_type": "code",
   "execution_count": null,
   "id": "frozen-police",
   "metadata": {},
   "outputs": [],
   "source": []
  }
 ],
 "metadata": {
  "kernelspec": {
   "display_name": "R",
   "language": "R",
   "name": "ir"
  },
  "language_info": {
   "codemirror_mode": "r",
   "file_extension": ".r",
   "mimetype": "text/x-r-source",
   "name": "R",
   "pygments_lexer": "r",
   "version": "4.0.3"
  }
 },
 "nbformat": 4,
 "nbformat_minor": 5
}
