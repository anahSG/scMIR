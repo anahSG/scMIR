{
 "cells": [
  {
   "cell_type": "markdown",
   "metadata": {},
   "source": [
    "# Corrections & downstream analysis\n",
    "\n",
    "This notebook describes a correction + downstream analysis pipeline for the analysis of a generic sample (tissue), taking as input a single, filtered anndata object."
   ]
  },
  {
   "cell_type": "markdown",
   "metadata": {},
   "source": [
    "### Loading required packages"
   ]
  },
  {
   "cell_type": "code",
   "execution_count": null,
   "metadata": {},
   "outputs": [],
   "source": [
    "from IPython.core.display import display, HTML\n",
    "display(HTML(\"<style>.container { width:90% !important; }</style>\"))\n",
    "%matplotlib inline\n",
    "\n",
    "\n",
    "\n",
    "import anndata as ad\n",
    "import scanpy as sc\n",
    "import numpy as np\n",
    "import scipy as sp\n",
    "import pandas as pd\n",
    "import matplotlib\n",
    "import matplotlib.pyplot as plt\n",
    "from matplotlib import rcParams\n",
    "from matplotlib import colors\n",
    "from matplotlib.colors import ListedColormap\n",
    "import seaborn as sb\n",
    "import scvelo as scv\n",
    "import re\n",
    "from rpy2.robjects import pandas2ri\n",
    "\n",
    "import rpy2.rinterface_lib.callbacks\n",
    "import rpy2\n",
    "%load_ext rpy2.ipython\n",
    "\n",
    "import time # for the sleep function\n",
    "import os # to iterate over directories"
   ]
  },
  {
   "cell_type": "code",
   "execution_count": null,
   "metadata": {},
   "outputs": [],
   "source": [
    "#extra settings\n",
    "# A nice color scheme for visualizing gene expression\n",
    "colors_2 = plt.cm.OrRd(np.linspace(0.05, 1, 128))\n",
    "colors_3 = plt.cm.Greys_r(np.linspace(0.8,0.9,20))\n",
    "colors_Comb = np.vstack([colors_3, colors_2])\n",
    "mymap = colors.LinearSegmentedColormap.from_list('my_colormap', colors_Comb)\n",
    "\n",
    "sc.settings.verbosity = 3             # verbosity: errors (0), warnings (1), info (2), hints (3)\n",
    "sc.settings.set_figure_params(dpi=80)\n",
    "#print package version list\n",
    "#sc.logging.print_versions()"
   ]
  },
  {
   "cell_type": "markdown",
   "metadata": {},
   "source": [
    "### Variable inputs"
   ]
  },
  {
   "cell_type": "code",
   "execution_count": null,
   "metadata": {},
   "outputs": [],
   "source": [
    "# Variables for reading in data:\n",
    "tissue = 'MO' # name of the sample; change accordingly\n",
    "conditionnames = ['C','ED','LD','PL','IC'] # name of the conditions in the preferred (arbitrary) order of display; change accordingly\n",
    "# note that the paths for reading in data will be:\n",
    "    # 10x matrix:    cellranger_outputs/'+ tissue +'/' + conditionnames[n] + '-' + tissue + '_primirs' + '/outs'\n",
    "    # HTO data:      hto_classification/'+ tissue +'/' + conditionnames[file]+'-' + tissue + '_HTO_info.txt'\n",
    "conditionlength = len(conditionnames)\n",
    "filtered_file = 'outputs/' + tissue + '/terva_'+ tissue + '_qc.h5ad' # path for the input anndata object"
   ]
  },
  {
   "cell_type": "code",
   "execution_count": null,
   "metadata": {},
   "outputs": [],
   "source": [
    "# Variables for data storage\n",
    "figdirectory = 'outputs/' + tissue + '/figures/' #directory for figure saving\n",
    "clusters_file = 'outputs/' + tissue + '/terva_'+ tissue + '_clusters.h5ad' # path for the output anndata object"
   ]
  },
  {
   "cell_type": "markdown",
   "metadata": {},
   "source": [
    "# 1. Read in data "
   ]
  },
  {
   "cell_type": "code",
   "execution_count": null,
   "metadata": {},
   "outputs": [],
   "source": [
    "adata=sc.read(filtered_file,cache=True) "
   ]
  },
  {
   "cell_type": "code",
   "execution_count": null,
   "metadata": {},
   "outputs": [],
   "source": [
    "adata.obs.head()"
   ]
  },
  {
   "cell_type": "markdown",
   "metadata": {},
   "source": [
    "# 2. Corrections"
   ]
  },
  {
   "cell_type": "markdown",
   "metadata": {},
   "source": [
    "## 2.1. Normalization"
   ]
  },
  {
   "cell_type": "code",
   "execution_count": null,
   "metadata": {},
   "outputs": [],
   "source": [
    "#Perform a clustering for scran normalization in clusters\n",
    "adata_pp = adata.copy()\n",
    "sc.pp.normalize_per_cell(adata_pp, counts_per_cell_after=1e4,copy=True)\n",
    "sc.pp.log1p(adata_pp) \n",
    "sc.pp.pca(adata_pp, n_comps=15)\n",
    "sc.pp.neighbors(adata_pp)"
   ]
  },
  {
   "cell_type": "code",
   "execution_count": null,
   "metadata": {},
   "outputs": [],
   "source": [
    "# Leiden clustering for normalization\n",
    "sc.tl.leiden(adata_pp, key_added='groups', resolution=0.3)\n",
    "# for Louvain: sc.tl.louvain(adata_pp, key_added='groups', resolution=0.3)"
   ]
  },
  {
   "cell_type": "code",
   "execution_count": null,
   "metadata": {},
   "outputs": [],
   "source": [
    "#Preprocess variables for scran normalization\n",
    "input_groups = adata_pp.obs['groups']\n",
    "data_mat = adata.X.T"
   ]
  },
  {
   "cell_type": "code",
   "execution_count": null,
   "metadata": {},
   "outputs": [],
   "source": [
    "%%R\n",
    "# Load all the R libraries we will be using in the notebook\n",
    "library(scran)"
   ]
  },
  {
   "cell_type": "code",
   "execution_count": null,
   "metadata": {},
   "outputs": [],
   "source": [
    "import anndata2ri\n",
    "anndata2ri.activate()\n",
    "from rpy2.robjects import r\n",
    "import rpy2.robjects.numpy2ri\n",
    "rpy2.robjects.numpy2ri.activate()"
   ]
  },
  {
   "cell_type": "code",
   "execution_count": null,
   "metadata": {},
   "outputs": [],
   "source": [
    "%%R -i data_mat -i input_groups -o size_factors\n",
    "#normalized expression values (measured counts/size factors)\n",
    "size_factors = computeSumFactors(data_mat, clusters=input_groups,min.mean=0.1)"
   ]
  },
  {
   "cell_type": "code",
   "execution_count": null,
   "metadata": {},
   "outputs": [],
   "source": [
    "#Delete adata_pp\n",
    "del adata_pp"
   ]
  },
  {
   "cell_type": "markdown",
   "metadata": {},
   "source": [
    "We plot the size factors to show they are non-negative and related to the number of counts and genes per cell as expected."
   ]
  },
  {
   "cell_type": "code",
   "execution_count": null,
   "metadata": {},
   "outputs": [],
   "source": [
    "# Add to adata and visualize the estimated size factors\n",
    "adata.obs['size_factors'] = size_factors\n",
    "sc.pl.scatter(adata, 'size_factors', 'n_counts')\n",
    "sc.pl.scatter(adata, 'size_factors', 'n_genes')\n",
    "sb.distplot(size_factors, bins=50, kde=False)\n",
    "plt.show()"
   ]
  },
  {
   "cell_type": "markdown",
   "metadata": {},
   "source": [
    "Before normalizing the data, we ensure that a copy of the raw count data is kept in a separate AnnData object. This allows us to use methods downstream that require this data as input."
   ]
  },
  {
   "cell_type": "code",
   "execution_count": null,
   "metadata": {},
   "outputs": [],
   "source": [
    "#Keep the count data in a counts layer\n",
    "adata.layers[\"counts\"] = adata.X.copy()"
   ]
  },
  {
   "cell_type": "code",
   "execution_count": null,
   "metadata": {},
   "outputs": [],
   "source": [
    "#Normalize adata\n",
    "adata.X /= adata.obs['size_factors'].values[:,None]\n",
    "sc.pp.log1p(adata)\n"
   ]
  },
  {
   "cell_type": "markdown",
   "metadata": {},
   "source": [
    "The count data has been normalized and log-transformed with an offset of 1. The latter is performed to normalize the data distributions. The offset of 1 ensures that zero counts map to zeros. We keep this data in the '.raw' part of the AnnData object as it will be used to visualize gene expression and perform statistical tests such as computing marker genes for clusters."
   ]
  },
  {
   "cell_type": "code",
   "execution_count": null,
   "metadata": {},
   "outputs": [],
   "source": [
    "# Store the full data set in 'raw' as log-normalised data for statistical testing\n",
    "adata.raw = adata # it does this again, check to remove from the beginning"
   ]
  },
  {
   "cell_type": "code",
   "execution_count": null,
   "metadata": {},
   "outputs": [],
   "source": [
    "# Convert back to sparse matrix: https://github.com/theislab/scanpy/issues/456\n",
    "adata.X = sp.sparse.csr_matrix(adata.X) "
   ]
  },
  {
   "cell_type": "markdown",
   "metadata": {},
   "source": [
    "## 2.2. Batch Correction"
   ]
  },
  {
   "cell_type": "markdown",
   "metadata": {},
   "source": [
    "Batch correction was not performed with ComBat but it may be an optional step.\n",
    "Note that ComBat batch correction requires a dense matrix format as input (which is already the case in this example)."
   ]
  },
  {
   "cell_type": "code",
   "execution_count": null,
   "metadata": {},
   "outputs": [],
   "source": [
    "# ComBat batch correction\n",
    "#sc.pp.combat(adata, key='ConditionName')"
   ]
  },
  {
   "cell_type": "markdown",
   "metadata": {},
   "source": [
    "# 3. Analysis"
   ]
  },
  {
   "cell_type": "markdown",
   "metadata": {},
   "source": [
    "## 3.1. HVG"
   ]
  },
  {
   "cell_type": "markdown",
   "metadata": {},
   "source": [
    "We extract highly variable genes (HVGs) to further reduce the dimensionality of the dataset and include only the most informative genes. Genes that vary substantially across the dataset are informative of the underlying biological variation in the data. As we only want to capture biological variation in these genes, we select highly variable genes after normalization and batch correction. HVGs are used for clustering, trajectory inference, and dimensionality reduction/visualization, while the full data set is used for computing marker genes, differential testing, cell cycle scoring, and visualizing expression values on the data.\n",
    "\n",
    "Here we use a standard technique for the extraction of highly variable genes from the 10X genomics preprocessing software CellRanger. Typically between 1000 and 5000 genes are selected. Here, we extract the top 4000 most variable genes for further processing. If particular genes of importance are known, one could assess how many highly variable genes are necessary to include all, or the majority, of these."
   ]
  },
  {
   "cell_type": "code",
   "execution_count": null,
   "metadata": {},
   "outputs": [],
   "source": [
    "#sc.pp.highly_variable_genes(adata, min_mean=0.0125, max_mean=3, min_disp=0.5, flavor= \"cell_ranger\")\n",
    "sc.pp.highly_variable_genes(adata, flavor='cell_ranger', n_top_genes=4000) #from Theis Lab\n",
    "print('\\n','Number of highly variable genes: {:d}'.format(np.sum(adata.var['highly_variable'])))\n",
    "sc.pl.highly_variable_genes(adata)"
   ]
  },
  {
   "cell_type": "markdown",
   "metadata": {},
   "source": [
    "The plots show how the data was normalized to select highly variable genes irrespective of the mean expression of the genes. This is achieved by using the index of dispersion which divides by mean expression, and subsequently binning the data by mean expression and selecting the most variable genes within each bin.\n",
    "\n",
    "Highly variable gene information is stored automatically in the adata.var['highly_variable'] field. The dataset now contains:\n",
    "\n",
    "a 'counts' layer with count data\n",
    "log-normalized data in adata.raw\n",
    "batch corrected data in adata.X\n",
    "highly variable gene annotations in adata.var['highly_variable']\n",
    "The HVG labels will be used to subselect genes for clustering and trajectory analysis."
   ]
  },
  {
   "cell_type": "code",
   "execution_count": null,
   "metadata": {},
   "outputs": [],
   "source": [
    "adata.var['highly_variable'].value_counts()\n",
    "sum(adata.var['highly_variable'])\n",
    "#adata = adata[:, adata.var['highly_variable']]\n",
    "#we are not going to subset highly variable genes, since they will drive the analysis anyway"
   ]
  },
  {
   "cell_type": "code",
   "execution_count": null,
   "metadata": {},
   "outputs": [],
   "source": [
    "adata.obs[\"HTO_classification\"].value_counts()"
   ]
  },
  {
   "cell_type": "markdown",
   "metadata": {},
   "source": [
    "## 3.2. Visualization"
   ]
  },
  {
   "cell_type": "markdown",
   "metadata": {},
   "source": [
    "Visualizing scRNA-seq data is the process of projecting a high-dimensional matrix of cells and genes into a few coordinates such that every cell is meaningfully represented in a two-dimensional graph. However, the visualization of scRNA-seq data is an active area of research and each method defines 'meaningful' in its own way. Thus, it is a good idea to look at several visualizations and decide which visualization best represents the aspect of the data that is being investigated.\n",
    "\n",
    "Overall t-SNE visualizations have been very popular in the community, however the recent UMAP algorithm has been shown to better represent the topology of the data.\n",
    "\n",
    "Note that we do not scale the genes to have zero mean and unit variance. A lack of rescaling is equivalent to giving genes with a higher mean expression a higher weight in dimensionality reduction (despite correcting for mean offsets in PCA, due to the mean-variance relationship). We argue that this weighting based on mean expression being a biologically relevant signal. However, rescaling HVG expression is also common, and the number of publications that use this approach suggests that scaling is at least not detrimental to downstream scRNA-seq analysis."
   ]
  },
  {
   "cell_type": "code",
   "execution_count": null,
   "metadata": {},
   "outputs": [],
   "source": [
    "sc.pp.pca(adata, n_comps=50, use_highly_variable=True, svd_solver='arpack') "
   ]
  },
  {
   "cell_type": "code",
   "execution_count": null,
   "metadata": {},
   "outputs": [],
   "source": [
    "sc.pp.neighbors(adata)"
   ]
  },
  {
   "cell_type": "code",
   "execution_count": null,
   "metadata": {},
   "outputs": [],
   "source": [
    "sc.tl.tsne(adata, n_jobs=12) #Note n_jobs works for MulticoreTSNE, but not regular implementation)"
   ]
  },
  {
   "cell_type": "code",
   "execution_count": null,
   "metadata": {},
   "outputs": [],
   "source": [
    "sc.tl.umap(adata,random_state=5)"
   ]
  },
  {
   "cell_type": "code",
   "execution_count": null,
   "metadata": {},
   "outputs": [],
   "source": [
    "sc.tl.diffmap(adata)"
   ]
  },
  {
   "cell_type": "code",
   "execution_count": null,
   "metadata": {},
   "outputs": [],
   "source": [
    "sc.pl.pca_scatter(adata, color='n_counts',save= figdirectory + tissue +'_pca_ncounts.png')\n",
    "sc.pl.tsne(adata, color='n_counts',save= figdirectory + tissue +'_tsne_ncounts.png')\n",
    "sc.pl.umap(adata, color='n_counts',save= figdirectory + tissue +'_umap_ncounts.png')\n",
    "sc.pl.diffmap(adata, color='n_counts', components=['1,2','1,3'],save= figdirectory + tissue +'_diffmap_ncounts.png')"
   ]
  },
  {
   "cell_type": "code",
   "execution_count": null,
   "metadata": {},
   "outputs": [],
   "source": [
    "sc.pl.pca_scatter(adata, color=[\"ConditionName\",'n_genes','percent_mito'],save= figdirectory + tissue +'_pca_condition.png')\n",
    "sc.pl.tsne(adata, color=[\"ConditionName\",'n_genes','percent_mito'],save= figdirectory + tissue +'_tsne_condition.png')\n",
    "sc.pl.umap(adata, color=[\"ConditionName\",'n_genes','percent_mito'],save= figdirectory + tissue +'_umap_condition.png')\n",
    "\n",
    "sc.pl.pca_scatter(adata, color=[\"ConditionName\",\"HTO_classification_global\",\"HTO_classification\",'n_genes','percent_mito'],save= figdirectory + tissue +'_pca_hto.png')\n",
    "sc.pl.tsne(adata, color=[\"ConditionName\",\"HTO_classification_global\",\"HTO_classification\",'n_genes','percent_mito'],save= figdirectory + tissue +'_tsne_hto.png')\n",
    "sc.pl.umap(adata, color=[\"ConditionName\",\"HTO_classification_global\",\"HTO_classification\",'n_genes','percent_mito'],save= figdirectory + tissue +'_umap_hto.png')"
   ]
  },
  {
   "cell_type": "markdown",
   "metadata": {},
   "source": [
    "PCA:\n",
    "\n",
    "Unsurprisingly, the first principle component captures variation in count depth between cells, and is thus only marginally informative\n",
    "The plot does not show the expected clustering of the data in two dimensions\n",
    "\n",
    "t-SNE:\n",
    "\n",
    "Shows several distinct clusters with clear subcluster structure\n",
    "Connections between clusters are difficult to interpret visually\n",
    "\n",
    "UMAP:\n",
    "\n",
    "Data points are spread out on the plot showing several clusters\n",
    "Connections between clusters can be readily identified\n",
    "\n",
    "Diffusion Maps:\n",
    "\n",
    "Shows connections between regions of higher density\n",
    "Very clear trajectories are suggested, but clusters are less clear\n",
    "Each diffusion component extracts heterogeneity in a different part of the data\n",
    "\n",
    "Graph:\n",
    "\n",
    "Shows a central cluster and several outer clusters\n",
    "Shows clear connections from the central cluster (likely stem cells) to outer clusters\n",
    "The strengths and weaknesses of the visualizations can readily be identified in the above plots. While t-SNE exaggerates differences, diffusion maps exaggerate transitions. Overall UMAP and force-directed graph drawings show the best compromise of the two aspects, however UMAP is much faster to compute (8s vs 114s here). UMAP has furthermore been shown to more accurately display the structure in the data."
   ]
  },
  {
   "cell_type": "code",
   "execution_count": null,
   "metadata": {},
   "outputs": [],
   "source": [
    "adata.obs.head()"
   ]
  },
  {
   "cell_type": "markdown",
   "metadata": {},
   "source": [
    "## Cell cycle scoring"
   ]
  },
  {
   "cell_type": "markdown",
   "metadata": {},
   "source": [
    "TBD?"
   ]
  },
  {
   "cell_type": "markdown",
   "metadata": {},
   "source": [
    "## 3.3. Clustering"
   ]
  },
  {
   "cell_type": "code",
   "execution_count": null,
   "metadata": {},
   "outputs": [],
   "source": [
    "sc.tl.leiden(adata, resolution=0.3, key_added='leiden_r03')\n",
    "sc.tl.leiden(adata, resolution=0.5, key_added='leiden_r05')\n",
    "sc.tl.leiden(adata, resolution=0.8, key_added='leiden_r08')\n",
    "sc.tl.leiden(adata, resolution=1, key_added='leiden_r1')\n",
    "sc.tl.leiden(adata, resolution=1.5, key_added='leiden_r1.5')"
   ]
  },
  {
   "cell_type": "code",
   "execution_count": null,
   "metadata": {},
   "outputs": [],
   "source": [
    "sc.tl.louvain(adata, resolution=0.3, key_added='louvain_r03')\n",
    "sc.tl.louvain(adata, resolution=0.5, key_added='louvain_r05')\n",
    "sc.tl.louvain(adata, resolution=0.8, key_added='louvain_r08')\n",
    "sc.tl.louvain(adata, resolution=1.0, key_added='louvain_r1')\n",
    "sc.tl.louvain(adata, resolution=1.5, key_added='louvain1.5')"
   ]
  },
  {
   "cell_type": "code",
   "execution_count": null,
   "metadata": {},
   "outputs": [],
   "source": [
    "sc.pl.umap(adata, color=['leiden_r03','leiden_r05','leiden_r05','leiden_r08','leiden_r1','leiden_r1.5'], legend_loc='on data',save= figdirectory + tissue +'_leiden.png')"
   ]
  },
  {
   "cell_type": "code",
   "execution_count": null,
   "metadata": {},
   "outputs": [],
   "source": [
    "sc.pl.umap(adata, color=['louvain_r03','louvain_r05','louvain_r05','louvain_r08','louvain_r1','louvain1.5'], legend_loc='on data',save= figdirectory + tissue +'_louvain.png')"
   ]
  },
  {
   "cell_type": "markdown",
   "metadata": {},
   "source": [
    "## 3.4.  Find marker genes per cluster"
   ]
  },
  {
   "cell_type": "code",
   "execution_count": null,
   "metadata": {},
   "outputs": [],
   "source": [
    "sc.settings.verbosity = 2"
   ]
  },
  {
   "cell_type": "code",
   "execution_count": null,
   "metadata": {},
   "outputs": [],
   "source": [
    "adata.obs['cell_group'] = adata.obs['ConditionName'].astype(str) + '_' + adata.obs['leiden_r03'].astype(str)"
   ]
  },
  {
   "cell_type": "code",
   "execution_count": null,
   "metadata": {
    "scrolled": true
   },
   "outputs": [],
   "source": [
    "sc.tl.rank_genes_groups(adata, groupby='leiden_r03', use_raw=False)\n",
    "sc.pl.rank_genes_groups(adata, n_genes=25, sharey=False, save = figdirectory + tissue +'_merge_rankgenes.png')"
   ]
  },
  {
   "cell_type": "code",
   "execution_count": null,
   "metadata": {},
   "outputs": [],
   "source": [
    "#### only upregulated marker genes are subsetted here\n",
    "marker_genes = pd.Series()\n",
    "for i in adata.obs.leiden_r03.cat.categories:\n",
    "    marker_genes = marker_genes.append(sc.get.rank_genes_groups_df(adata, group=i, pval_cutoff=1e-4)['names'][:10])\n",
    "marker_genes = marker_genes.unique()"
   ]
  },
  {
   "cell_type": "code",
   "execution_count": null,
   "metadata": {},
   "outputs": [],
   "source": [
    "sc.pl.matrixplot(adata, var_names=marker_genes, swap_axes= \"True\", groupby='leiden_r03', standard_scale='var', save = figdirectory + tissue +'_merge_heatmap.png')"
   ]
  },
  {
   "cell_type": "code",
   "execution_count": null,
   "metadata": {},
   "outputs": [],
   "source": [
    "adata.write(clusters_file)"
   ]
  }
 ],
 "metadata": {
  "kernelspec": {
   "display_name": "sc-scanpy-celia",
   "language": "python",
   "name": "sc-scanpy-celia"
  },
  "language_info": {
   "codemirror_mode": {
    "name": "ipython",
    "version": 3
   },
   "file_extension": ".py",
   "mimetype": "text/x-python",
   "name": "python",
   "nbconvert_exporter": "python",
   "pygments_lexer": "ipython3",
   "version": "3.8.5"
  }
 },
 "nbformat": 4,
 "nbformat_minor": 4
}
